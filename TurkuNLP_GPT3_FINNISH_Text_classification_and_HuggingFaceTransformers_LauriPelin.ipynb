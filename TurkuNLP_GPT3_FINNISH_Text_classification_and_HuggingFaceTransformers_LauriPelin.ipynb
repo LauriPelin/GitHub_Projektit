{
  "nbformat": 4,
  "nbformat_minor": 0,
  "metadata": {
    "colab": {
      "provenance": [],
      "authorship_tag": "ABX9TyNftRlfi4gt/cp3P+N1UI07",
      "include_colab_link": true
    },
    "kernelspec": {
      "name": "python3",
      "display_name": "Python 3"
    },
    "language_info": {
      "name": "python"
    }
  },
  "cells": [
    {
      "cell_type": "markdown",
      "metadata": {
        "id": "view-in-github",
        "colab_type": "text"
      },
      "source": [
        "<a href=\"https://colab.research.google.com/github/LauriPelin/GitHub_Projektit/blob/main/TurkuNLP_GPT3_FINNISH_Text_classification_and_HuggingFaceTransformers_LauriPelin.ipynb\" target=\"_parent\"><img src=\"https://colab.research.google.com/assets/colab-badge.svg\" alt=\"Open In Colab\"/></a>"
      ]
    },
    {
      "cell_type": "code",
      "execution_count": null,
      "metadata": {
        "id": "Wqc3glSqUNK-"
      },
      "outputs": [],
      "source": [
        "!pip install --quiet transformers\n",
        "from transformers import AutoTokenizer, AutoModelForCausalLM, pipeline\n",
        "\n",
        "MODEL_NAME = 'TurkuNLP/gpt3-finnish-large'\n",
        "\n",
        "tokenizer = AutoTokenizer.from_pretrained(MODEL_NAME)\n",
        "model = AutoModelForCausalLM.from_pretrained(MODEL_NAME)"
      ]
    },
    {
      "cell_type": "code",
      "source": [
        "pipe = pipeline(\n",
        "    'text-generation',\n",
        "    model=model,\n",
        "    tokenizer=tokenizer,\n",
        "    device=model.device\n",
        ")\n",
        "output = pipe('Terve, miten menee?', max_new_tokens=25)\n",
        "print(output[0]['generated_text'])"
      ],
      "metadata": {
        "colab": {
          "base_uri": "https://localhost:8080/"
        },
        "id": "nIhzcZa-UYR8",
        "outputId": "0a410356-fe0b-4954-c70e-7f935d8d1b61"
      },
      "execution_count": null,
      "outputs": [
        {
          "output_type": "stream",
          "name": "stdout",
          "text": [
            "Terve, miten menee?”\n",
            "”Hyvin, kiitos.”\n",
            "”Kiva kuulla.”\n",
            "”Kuule, minulla on sinulle asiaa.”\n",
            "\n"
          ]
        }
      ]
    },
    {
      "cell_type": "code",
      "source": [
        "!pip install --quiet transformers\n",
        "from transformers import pipeline\n",
        "\n",
        "# Load text classification pipeline\n",
        "text_classification_pipeline_twitter = pipeline(\"text-classification\", model=\"cardiffnlp/twitter-roberta-base-sentiment\")\n",
        "\n",
        "# Test cases for text classification\n",
        "text_classification_test_cases = [\n",
        "    \"I loved the movie! The acting was amazing.\",\n",
        "    \"The food at the restaurant was terrible. I would not recommend it.\",\n",
        "    \"I'm not sure what to think about this book. The story was interesting, but the writing style was not my favorite.\"\n",
        "]\n",
        "\n",
        "print(\"Text Classification Results for https://huggingface.co/cardiffnlp/twitter-roberta-base-sentiment:\")\n",
        "for test_case in text_classification_test_cases:\n",
        "    result = text_classification_pipeline_twitter(test_case)\n",
        "    print(f\"Input: {test_case}\")\n",
        "    print(f\"Label: {result[0]['label']}\")\n",
        "    print(f\"Score: {result[0]['score']}\")\n",
        "    print()\n",
        "\n",
        "\n",
        "# Load text classification pipeline\n",
        "text_classification_pipeline = pipeline(\"text-classification\", model=\"distilbert-base-uncased-finetuned-sst-2-english\")\n",
        "\n",
        "# Test cases for text classification\n",
        "text_classification_test_cases = [\n",
        "    \"I loved the movie! The acting was amazing.\",\n",
        "    \"The food at the restaurant was terrible. I would not recommend it.\",\n",
        "    \"I'm not sure what to think about this book. The story was interesting, but the writing style was not my favorite.\"\n",
        "]\n",
        "\n",
        "num_dashes = 200\n",
        "print(''.join(['-' for _ in range(num_dashes)]))\n",
        "print(\"Text Classification Results for https://huggingface.co/distilbert-base-uncased-finetuned-sst-2-english:\")\n",
        "for test_case in text_classification_test_cases:\n",
        "    result = text_classification_pipeline(test_case)\n",
        "    print(f\"Input: {test_case}\")\n",
        "    print(f\"Label: {result[0]['label']}\")\n",
        "    print(f\"Score: {result[0]['score']}\")\n",
        "    print()\n"
      ],
      "metadata": {
        "colab": {
          "base_uri": "https://localhost:8080/"
        },
        "id": "ch9K9F54WIBZ",
        "outputId": "ab87b9ea-4ae0-45a1-f67a-8b650f7f667d"
      },
      "execution_count": null,
      "outputs": [
        {
          "output_type": "stream",
          "name": "stdout",
          "text": [
            "Text Classification Results for https://huggingface.co/cardiffnlp/twitter-roberta-base-sentiment:\n",
            "Input: I loved the movie! The acting was amazing.\n",
            "Label: LABEL_2\n",
            "Score: 0.9924699664115906\n",
            "\n",
            "Input: The food at the restaurant was terrible. I would not recommend it.\n",
            "Label: LABEL_0\n",
            "Score: 0.9823352694511414\n",
            "\n",
            "Input: I'm not sure what to think about this book. The story was interesting, but the writing style was not my favorite.\n",
            "Label: LABEL_0\n",
            "Score: 0.5989922285079956\n",
            "\n",
            "--------------------------------------------------------------------------------------------------------------------------------------------------------------------------------------------------------\n",
            "Text Classification Results for https://huggingface.co/distilbert-base-uncased-finetuned-sst-2-english:\n",
            "Input: I loved the movie! The acting was amazing.\n",
            "Label: POSITIVE\n",
            "Score: 0.9998842477798462\n",
            "\n",
            "Input: The food at the restaurant was terrible. I would not recommend it.\n",
            "Label: NEGATIVE\n",
            "Score: 0.9991680383682251\n",
            "\n",
            "Input: I'm not sure what to think about this book. The story was interesting, but the writing style was not my favorite.\n",
            "Label: NEGATIVE\n",
            "Score: 0.9993218183517456\n",
            "\n"
          ]
        }
      ]
    },
    {
      "cell_type": "code",
      "source": [
        "# Load question answering pipeline\n",
        "question_answering_pipeline = pipeline(\"question-answering\", model=\"deepset/roberta-base-squad2\")\n",
        "\n",
        "# Test cases for question answering\n",
        "question_answering_test_cases = [\n",
        "    {\n",
        "        \"question\": \"What is the capital of France?\",\n",
        "        \"context\": \"France is a country located in Western Europe. It's neighboring countries are Italy and Spain. Their capitals are Paris, Madrid and Rome.\"\n",
        "    },\n",
        "    {\n",
        "        \"question\": \"Who wrote the novel 'Pride and Prejudice'?\",\n",
        "        \"context\": \"The novel 'Pride and Prejudice' was written by Jane Austen. One of her sisters was called Cassandra.\"\n",
        "    },\n",
        "    {\n",
        "        \"question\": \"When was the first moon landing?\",\n",
        "        \"context\": \"The first moon landing occurred on July 20, 1969. Apollo 12 that occurred later was launched in November 14th, 1969.\"\n",
        "    }\n",
        "]\n",
        "\n",
        "print(\"Question Answering Results for https://huggingface.co/deepset/roberta-base-squad2:\")\n",
        "for test_case in question_answering_test_cases:\n",
        "    result = question_answering_pipeline(test_case)\n",
        "    print(f\"Question: {test_case['question']}\")\n",
        "    print(f\"Answer: {result['answer']}\")\n",
        "    print(f\"Score: {result['score']}\")\n",
        "    print()\n",
        "\n",
        "# Load question answering pipeline\n",
        "question_answering_pipeline = pipeline(\"question-answering\", model = 'distilbert-base-uncased-distilled-squad')\n",
        "\n",
        "# Test cases for question answering\n",
        "question_answering_test_cases = [\n",
        "    {\n",
        "        \"question\": \"What is the capital of France?\",\n",
        "        \"context\": \"France is a country located in Western Europe. It's neighboring countries are Italy and Spain. Their capitals are Paris, Madrid and Rome.\"\n",
        "    },\n",
        "    {\n",
        "        \"question\": \"Who wrote the novel 'Pride and Prejudice'?\",\n",
        "        \"context\": \"The novel 'Pride and Prejudice' was written by Jane Austen. One of her sisters was called Cassandra.\"\n",
        "    },\n",
        "    {\n",
        "        \"question\": \"When was the first moon landing?\",\n",
        "        \"context\": \"The first moon landing occurred on July 20, 1969. Apollo 12 that occurred later was launched in November 14th, 1969.\"\n",
        "    }\n",
        "]\n",
        "num_dashes = 120\n",
        "print(''.join(['-' for _ in range(num_dashes)]))\n",
        "print(\"Question Answering Results for https://huggingface.co/distilbert-base-uncased-distilled-squad:\")\n",
        "for test_case in question_answering_test_cases:\n",
        "    result = question_answering_pipeline(test_case)\n",
        "    print(f\"Question: {test_case['question']}\")\n",
        "    print(f\"Answer: {result['answer']}\")\n",
        "    print(f\"Score: {result['score']}\")\n",
        "    print()"
      ],
      "metadata": {
        "colab": {
          "base_uri": "https://localhost:8080/"
        },
        "id": "he7l9zYLoqME",
        "outputId": "ac04f814-ab42-4eb3-b94f-06791cbd3aa8"
      },
      "execution_count": null,
      "outputs": [
        {
          "output_type": "stream",
          "name": "stdout",
          "text": [
            "Question Answering Results for https://huggingface.co/deepset/roberta-base-squad2:\n",
            "Question: What is the capital of France?\n",
            "Answer: Paris\n",
            "Score: 0.4066110849380493\n",
            "\n",
            "Question: Who wrote the novel 'Pride and Prejudice'?\n",
            "Answer: Jane Austen\n",
            "Score: 0.9913492798805237\n",
            "\n",
            "Question: When was the first moon landing?\n",
            "Answer: July 20, 1969\n",
            "Score: 0.9890519976615906\n",
            "\n",
            "------------------------------------------------------------------------------------------------------------------------\n",
            "Question Answering Results for https://huggingface.co/distilbert-base-uncased-distilled-squad:\n",
            "Question: What is the capital of France?\n",
            "Answer: Paris, Madrid and Rome\n",
            "Score: 0.7472211122512817\n",
            "\n",
            "Question: Who wrote the novel 'Pride and Prejudice'?\n",
            "Answer: Jane Austen\n",
            "Score: 0.9909425377845764\n",
            "\n",
            "Question: When was the first moon landing?\n",
            "Answer: July 20, 1969\n",
            "Score: 0.9854468703269958\n",
            "\n"
          ]
        }
      ]
    },
    {
      "cell_type": "code",
      "source": [],
      "metadata": {
        "id": "RlY7LaKcZ5nQ"
      },
      "execution_count": null,
      "outputs": []
    },
    {
      "cell_type": "code",
      "source": [],
      "metadata": {
        "id": "yLYNcKaUc0_m"
      },
      "execution_count": null,
      "outputs": []
    },
    {
      "cell_type": "code",
      "source": [],
      "metadata": {
        "id": "UD8OKa-Xc46t"
      },
      "execution_count": null,
      "outputs": []
    },
    {
      "cell_type": "code",
      "source": [],
      "metadata": {
        "id": "gF5c3AMWc5Dt"
      },
      "execution_count": null,
      "outputs": []
    },
    {
      "cell_type": "code",
      "source": [],
      "metadata": {
        "id": "N1gm8EN9aO-F"
      },
      "execution_count": null,
      "outputs": []
    },
    {
      "cell_type": "code",
      "source": [],
      "metadata": {
        "id": "hR7CHTwZdv7c"
      },
      "execution_count": null,
      "outputs": []
    },
    {
      "cell_type": "code",
      "source": [],
      "metadata": {
        "id": "HsF7KLb7dv1M"
      },
      "execution_count": null,
      "outputs": []
    }
  ]
}