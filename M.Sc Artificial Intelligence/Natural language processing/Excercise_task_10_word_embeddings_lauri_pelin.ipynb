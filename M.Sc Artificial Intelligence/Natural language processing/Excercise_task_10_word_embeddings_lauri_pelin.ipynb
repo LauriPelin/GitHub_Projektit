{
  "nbformat": 4,
  "nbformat_minor": 0,
  "metadata": {
    "colab": {
      "provenance": []
    },
    "kernelspec": {
      "name": "python3",
      "display_name": "Python 3"
    },
    "language_info": {
      "name": "python"
    },
    "gpuClass": "standard"
  },
  "cells": [
    {
      "cell_type": "code",
      "execution_count": 1,
      "metadata": {
        "colab": {
          "base_uri": "https://localhost:8080/"
        },
        "id": "26o2mrrKK2XO",
        "outputId": "193d6b8a-3bcb-4f6b-9bcf-af6cf4f0d73e"
      },
      "outputs": [
        {
          "output_type": "stream",
          "name": "stdout",
          "text": [
            "File ‘enwiki-20220301-sample.txt’ already there; not retrieving.\n",
            "\n"
          ]
        }
      ],
      "source": [
        "!wget -nc http://dl.turkunlp.org/TKO_7095_2023/enwiki-20220301-sample.txt"
      ]
    },
    {
      "cell_type": "code",
      "source": [],
      "metadata": {
        "id": "P8kRUyCJo0Ov"
      },
      "execution_count": 1,
      "outputs": []
    },
    {
      "cell_type": "code",
      "source": [
        "!wget -nc https://github.com/TurkuNLP/intro-to-nlp/raw/master/Data/en.segmenter.udpipe\n",
        "!pip3 install ufal.udpipe\n",
        "\n",
        "import ufal.udpipe as udpipe\n",
        "\n",
        "model = udpipe.Model.load(\"en.segmenter.udpipe\")\n",
        "pipeline = udpipe.Pipeline(model,\"tokenize\",\"none\",\"none\",\"horizontal\")"
      ],
      "metadata": {
        "colab": {
          "base_uri": "https://localhost:8080/"
        },
        "id": "vcGQzunULY42",
        "outputId": "8bb57831-3c0b-483c-f95d-f2af4a0f9775"
      },
      "execution_count": 2,
      "outputs": [
        {
          "output_type": "stream",
          "name": "stdout",
          "text": [
            "File ‘en.segmenter.udpipe’ already there; not retrieving.\n",
            "\n",
            "Looking in indexes: https://pypi.org/simple, https://us-python.pkg.dev/colab-wheels/public/simple/\n",
            "Requirement already satisfied: ufal.udpipe in /usr/local/lib/python3.9/dist-packages (1.3.0.1)\n"
          ]
        }
      ]
    },
    {
      "cell_type": "code",
      "source": [
        "!pip install --quiet sentence-splitter regex "
      ],
      "metadata": {
        "id": "SMc0wRTElT1p"
      },
      "execution_count": 3,
      "outputs": []
    },
    {
      "cell_type": "code",
      "source": [
        "with open(\"enwiki-20220301-sample.txt\", \"r\", encoding=\"utf-8\") as input_file:\n",
        "    # Read the first 10000 lines of the file\n",
        "    lines = input_file.readlines()[:1000] #10,000 or more would take too long without dedicated gpu\n",
        "\n",
        "# Open a new file for writing\n",
        "with open(\"enwiki-20220301-sample-trimmed.txt\", \"w\", encoding=\"utf-8\") as output_file:\n",
        "    # Write the trimmed lines to the output file\n",
        "    output_file.writelines(lines)"
      ],
      "metadata": {
        "id": "AmaJlYbTRFc4"
      },
      "execution_count": 4,
      "outputs": []
    },
    {
      "cell_type": "code",
      "source": [
        "# Open the trimmed file for reading\n",
        "with open(\"enwiki-20220301-sample-trimmed.txt\", \"r\", encoding=\"utf-8\") as trimmed_file:\n",
        "    # Read the first two lines of the file\n",
        "    first_two_lines = trimmed_file.readlines()[:2]\n",
        "\n",
        "# Print the first two lines\n",
        "for line in first_two_lines:\n",
        "    print(line)"
      ],
      "metadata": {
        "id": "oOCgczqTUv9w",
        "outputId": "9606c1b0-9ba5-47b8-ce47-b339910efd44",
        "colab": {
          "base_uri": "https://localhost:8080/"
        }
      },
      "execution_count": 5,
      "outputs": [
        {
          "output_type": "stream",
          "name": "stdout",
          "text": [
            "Incumbent CM Mayawati began her campaign on 27 January at a rally in Bijnor. On 15 January, she released the BSP's list of candidates for all the 403 constituencies. The list included 88 candidates belonging to SCs, 113 from OBCs, 85 religious minorities and 117 upper castes, out of which 74 are Brahmins.\n",
            "\n",
            "As a member of the OSS Research and Analysis Division, Wheeler had government security clearance to received secret and confidential \"ditto\" copies of monthly and semi-monthly reports of political developments throughout the world. Wheeler is alleged to have passed these reports as well as handwritten and typewritten material of cable reports from the State Department and the OSS to Soviet intelligence.  Wheeler is alleged to have provided information on the organization and policies of British intelligence services and furnished memoranda prepared by the Foreign Nationalities Branch of OSS on material relating to the particular racial groups and activities within the United States. These allegations, launched during McCarthyism resulted in no charges ever being brought against Wheeler, who contended that the charges of espionage were a response to his outspoken criticism of the failings of the American economic and political system.\n",
            "\n"
          ]
        }
      ]
    },
    {
      "cell_type": "code",
      "source": [
        "paragraphs = open(\"enwiki-20220301-sample-trimmed.txt\").readlines()\n",
        "     \n",
        "from sentence_splitter import SentenceSplitter\n",
        "\n",
        "splitter = SentenceSplitter(language='en')\n"
      ],
      "metadata": {
        "id": "FNNFGOPClbU_"
      },
      "execution_count": 6,
      "outputs": []
    },
    {
      "cell_type": "code",
      "source": [
        "%%time\n",
        "\n",
        "sentences = [s for p in paragraphs[:100000] for s in splitter.split(p)]"
      ],
      "metadata": {
        "colab": {
          "base_uri": "https://localhost:8080/"
        },
        "id": "ceiU8Kpblx0a",
        "outputId": "2d1a7707-8b3f-41d7-c7c1-9718d95d49f1"
      },
      "execution_count": 7,
      "outputs": [
        {
          "output_type": "stream",
          "name": "stdout",
          "text": [
            "CPU times: user 1.46 s, sys: 8.41 ms, total: 1.47 s\n",
            "Wall time: 1.89 s\n"
          ]
        }
      ]
    },
    {
      "cell_type": "code",
      "source": [
        "import regex\n",
        "\n",
        "TOKENIZE_RE = regex.compile(r'([[:alnum:]]+|\\S)')"
      ],
      "metadata": {
        "id": "p0LbkEX4l4x_"
      },
      "execution_count": 8,
      "outputs": []
    },
    {
      "cell_type": "code",
      "source": [
        "%%time\n",
        "\n",
        "tokenized = [TOKENIZE_RE.findall(s) for s in sentences]"
      ],
      "metadata": {
        "colab": {
          "base_uri": "https://localhost:8080/"
        },
        "id": "Bn_xM7zOmCGg",
        "outputId": "a9e0a00a-eef0-4174-8ad5-aee5030875ea"
      },
      "execution_count": 9,
      "outputs": [
        {
          "output_type": "stream",
          "name": "stdout",
          "text": [
            "CPU times: user 70.6 ms, sys: 3.96 ms, total: 74.5 ms\n",
            "Wall time: 78.7 ms\n"
          ]
        }
      ]
    },
    {
      "cell_type": "code",
      "source": [
        "for t in tokenized[:10]:\n",
        "    print(t)"
      ],
      "metadata": {
        "colab": {
          "base_uri": "https://localhost:8080/"
        },
        "id": "D5nzxVv6l-vv",
        "outputId": "05a111d8-31c8-4ea7-cb94-1c813d29bfd4"
      },
      "execution_count": 10,
      "outputs": [
        {
          "output_type": "stream",
          "name": "stdout",
          "text": [
            "['Incumbent', 'CM', 'Mayawati', 'began', 'her', 'campaign', 'on', '27', 'January', 'at', 'a', 'rally', 'in', 'Bijnor', '.']\n",
            "['On', '15', 'January', ',', 'she', 'released', 'the', 'BSP', \"'\", 's', 'list', 'of', 'candidates', 'for', 'all', 'the', '403', 'constituencies', '.']\n",
            "['The', 'list', 'included', '88', 'candidates', 'belonging', 'to', 'SCs', ',', '113', 'from', 'OBCs', ',', '85', 'religious', 'minorities', 'and', '117', 'upper', 'castes', ',', 'out', 'of', 'which', '74', 'are', 'Brahmins', '.']\n",
            "['As', 'a', 'member', 'of', 'the', 'OSS', 'Research', 'and', 'Analysis', 'Division', ',', 'Wheeler', 'had', 'government', 'security', 'clearance', 'to', 'received', 'secret', 'and', 'confidential', '\"', 'ditto', '\"', 'copies', 'of', 'monthly', 'and', 'semi', '-', 'monthly', 'reports', 'of', 'political', 'developments', 'throughout', 'the', 'world', '.']\n",
            "['Wheeler', 'is', 'alleged', 'to', 'have', 'passed', 'these', 'reports', 'as', 'well', 'as', 'handwritten', 'and', 'typewritten', 'material', 'of', 'cable', 'reports', 'from', 'the', 'State', 'Department', 'and', 'the', 'OSS', 'to', 'Soviet', 'intelligence', '.']\n",
            "['Wheeler', 'is', 'alleged', 'to', 'have', 'provided', 'information', 'on', 'the', 'organization', 'and', 'policies', 'of', 'British', 'intelligence', 'services', 'and', 'furnished', 'memoranda', 'prepared', 'by', 'the', 'Foreign', 'Nationalities', 'Branch', 'of', 'OSS', 'on', 'material', 'relating', 'to', 'the', 'particular', 'racial', 'groups', 'and', 'activities', 'within', 'the', 'United', 'States', '.']\n",
            "['These', 'allegations', ',', 'launched', 'during', 'McCarthyism', 'resulted', 'in', 'no', 'charges', 'ever', 'being', 'brought', 'against', 'Wheeler', ',', 'who', 'contended', 'that', 'the', 'charges', 'of', 'espionage', 'were', 'a', 'response', 'to', 'his', 'outspoken', 'criticism', 'of', 'the', 'failings', 'of', 'the', 'American', 'economic', 'and', 'political', 'system', '.']\n",
            "['Lexicographic', 'preferences', 'have', 'also', 'been', 'found', 'useful', 'in', 'describing', 'choices', 'under', 'uncertainty', '.']\n",
            "['Let', 'wi', '=', 'wi', '(', 'x', ',', 'p', '(', 'x', ')', ')', 'be', 'the', 'ith', 'utility', 'from', 'a', 'vector', 'of', 'prospects', 'x', '=', '(', 'x1', ',', '…', ',', 'xk', ',', '…', ')', 'which', 'has', 'associated', 'probabilities', 'p', '(', 'x', ')', '=', '(', 'p1', '(', 'x1', ')', ',', '…', ',', 'pk', '(', 'xn', ')', ')', '.']\n",
            "['Note', 'that', 'the', 'criterion', 'function', 'wi', 'depends', 'explicitly', 'not', 'only', 'on', 'x', 'but', 'also', 'on', 'the', 'probabilities', 'associated', 'with', 'x', '.']\n"
          ]
        }
      ]
    },
    {
      "cell_type": "code",
      "source": [],
      "metadata": {
        "id": "DPE58qbKLcFW"
      },
      "execution_count": 10,
      "outputs": []
    },
    {
      "cell_type": "code",
      "source": [
        "!pip install trankit transformers\n",
        "import trankit\n",
        "p = trankit.Pipeline('english', gpu=True)"
      ],
      "metadata": {
        "colab": {
          "base_uri": "https://localhost:8080/"
        },
        "id": "EBGXMY3GpRYN",
        "outputId": "a88e7bd3-ed8a-4945-9b04-24b5e7eb44af"
      },
      "execution_count": 11,
      "outputs": [
        {
          "output_type": "stream",
          "name": "stdout",
          "text": [
            "Looking in indexes: https://pypi.org/simple, https://us-python.pkg.dev/colab-wheels/public/simple/\n",
            "Requirement already satisfied: trankit in /usr/local/lib/python3.9/dist-packages (1.1.1)\n",
            "Requirement already satisfied: transformers in /usr/local/lib/python3.9/dist-packages (4.28.1)\n",
            "Requirement already satisfied: packaging in /usr/local/lib/python3.9/dist-packages (from trankit) (23.0)\n",
            "Requirement already satisfied: numpy in /usr/local/lib/python3.9/dist-packages (from trankit) (1.22.4)\n",
            "Requirement already satisfied: sacremoses in /usr/local/lib/python3.9/dist-packages (from trankit) (0.0.53)\n",
            "Requirement already satisfied: regex!=2019.12.17 in /usr/local/lib/python3.9/dist-packages (from trankit) (2022.10.31)\n",
            "Requirement already satisfied: filelock in /usr/local/lib/python3.9/dist-packages (from trankit) (3.11.0)\n",
            "Requirement already satisfied: protobuf in /usr/local/lib/python3.9/dist-packages (from trankit) (3.20.3)\n",
            "Requirement already satisfied: tokenizers>=0.7.0 in /usr/local/lib/python3.9/dist-packages (from trankit) (0.13.3)\n",
            "Requirement already satisfied: sentencepiece in /usr/local/lib/python3.9/dist-packages (from trankit) (0.1.98)\n",
            "Requirement already satisfied: torch>=1.6.0 in /usr/local/lib/python3.9/dist-packages (from trankit) (2.0.0+cu118)\n",
            "Requirement already satisfied: tqdm>=4.27 in /usr/local/lib/python3.9/dist-packages (from trankit) (4.65.0)\n",
            "Requirement already satisfied: requests in /usr/local/lib/python3.9/dist-packages (from trankit) (2.27.1)\n",
            "Requirement already satisfied: langid==1.1.6 in /usr/local/lib/python3.9/dist-packages (from trankit) (1.1.6)\n",
            "Requirement already satisfied: pyyaml>=5.1 in /usr/local/lib/python3.9/dist-packages (from transformers) (6.0)\n",
            "Requirement already satisfied: huggingface-hub<1.0,>=0.11.0 in /usr/local/lib/python3.9/dist-packages (from transformers) (0.13.4)\n",
            "Requirement already satisfied: typing-extensions>=3.7.4.3 in /usr/local/lib/python3.9/dist-packages (from huggingface-hub<1.0,>=0.11.0->transformers) (4.5.0)\n",
            "Requirement already satisfied: triton==2.0.0 in /usr/local/lib/python3.9/dist-packages (from torch>=1.6.0->trankit) (2.0.0)\n",
            "Requirement already satisfied: jinja2 in /usr/local/lib/python3.9/dist-packages (from torch>=1.6.0->trankit) (3.1.2)\n",
            "Requirement already satisfied: networkx in /usr/local/lib/python3.9/dist-packages (from torch>=1.6.0->trankit) (3.1)\n",
            "Requirement already satisfied: sympy in /usr/local/lib/python3.9/dist-packages (from torch>=1.6.0->trankit) (1.11.1)\n",
            "Requirement already satisfied: cmake in /usr/local/lib/python3.9/dist-packages (from triton==2.0.0->torch>=1.6.0->trankit) (3.25.2)\n",
            "Requirement already satisfied: lit in /usr/local/lib/python3.9/dist-packages (from triton==2.0.0->torch>=1.6.0->trankit) (16.0.1)\n",
            "Requirement already satisfied: certifi>=2017.4.17 in /usr/local/lib/python3.9/dist-packages (from requests->trankit) (2022.12.7)\n",
            "Requirement already satisfied: charset-normalizer~=2.0.0 in /usr/local/lib/python3.9/dist-packages (from requests->trankit) (2.0.12)\n",
            "Requirement already satisfied: idna<4,>=2.5 in /usr/local/lib/python3.9/dist-packages (from requests->trankit) (3.4)\n",
            "Requirement already satisfied: urllib3<1.27,>=1.21.1 in /usr/local/lib/python3.9/dist-packages (from requests->trankit) (1.26.15)\n",
            "Requirement already satisfied: joblib in /usr/local/lib/python3.9/dist-packages (from sacremoses->trankit) (1.2.0)\n",
            "Requirement already satisfied: click in /usr/local/lib/python3.9/dist-packages (from sacremoses->trankit) (8.1.3)\n",
            "Requirement already satisfied: six in /usr/local/lib/python3.9/dist-packages (from sacremoses->trankit) (1.16.0)\n",
            "Requirement already satisfied: MarkupSafe>=2.0 in /usr/local/lib/python3.9/dist-packages (from jinja2->torch>=1.6.0->trankit) (2.1.2)\n",
            "Requirement already satisfied: mpmath>=0.19 in /usr/local/lib/python3.9/dist-packages (from sympy->torch>=1.6.0->trankit) (1.3.0)\n",
            "Loading pretrained XLM-Roberta, this may take a while...\n",
            "Loading tokenizer for english\n",
            "Loading tagger for english\n",
            "Loading lemmatizer for english\n",
            "Loading NER tagger for english\n",
            "==================================================\n",
            "Active language: english\n",
            "==================================================\n"
          ]
        }
      ]
    },
    {
      "cell_type": "code",
      "source": [
        "all = p(tokenized)"
      ],
      "metadata": {
        "id": "_9HdzsoZDNc5"
      },
      "execution_count": 12,
      "outputs": []
    },
    {
      "cell_type": "code",
      "source": [
        "!pip install gensim"
      ],
      "metadata": {
        "id": "MeE9QiMwXqUW",
        "colab": {
          "base_uri": "https://localhost:8080/"
        },
        "outputId": "02627d04-4c3d-46f6-992f-22f9d3c2535a"
      },
      "execution_count": 13,
      "outputs": [
        {
          "output_type": "stream",
          "name": "stdout",
          "text": [
            "Looking in indexes: https://pypi.org/simple, https://us-python.pkg.dev/colab-wheels/public/simple/\n",
            "Requirement already satisfied: gensim in /usr/local/lib/python3.9/dist-packages (4.3.1)\n",
            "Requirement already satisfied: numpy>=1.18.5 in /usr/local/lib/python3.9/dist-packages (from gensim) (1.22.4)\n",
            "Requirement already satisfied: scipy>=1.7.0 in /usr/local/lib/python3.9/dist-packages (from gensim) (1.10.1)\n",
            "Requirement already satisfied: smart-open>=1.8.1 in /usr/local/lib/python3.9/dist-packages (from gensim) (6.3.0)\n"
          ]
        }
      ]
    },
    {
      "cell_type": "code",
      "source": [
        "from gensim.models import Word2Vec\n",
        "\n",
        "model = Word2Vec(tokenized, vector_size=100, window=5, min_count=1, workers=4)\n"
      ],
      "metadata": {
        "id": "VDDDIsIwL-7A"
      },
      "execution_count": 14,
      "outputs": []
    },
    {
      "cell_type": "code",
      "source": [
        "\n"
      ],
      "metadata": {
        "id": "Q8Li-ENxL7RG"
      },
      "execution_count": 15,
      "outputs": []
    },
    {
      "cell_type": "code",
      "source": [
        "tokens=[\"good\",\"bad\",\"dog\",\"cat\",\"king\",\"queen\"]\n",
        "for token in tokens:\n",
        "     print(model.wv.most_similar(positive=token))\n",
        "\n"
      ],
      "metadata": {
        "id": "JFLB542Xjei2",
        "colab": {
          "base_uri": "https://localhost:8080/"
        },
        "outputId": "321c5b8a-2ed9-4bab-bcec-789740ced807"
      },
      "execution_count": 17,
      "outputs": [
        {
          "output_type": "stream",
          "name": "stdout",
          "text": [
            "[('—', 0.9978679418563843), ('out', 0.997798502445221), ('two', 0.9977929592132568), ('on', 0.9977864027023315), ('than', 0.9977748394012451), ('while', 0.9977728128433228), ('one', 0.997772753238678), ('or', 0.9977625012397766), ('American', 0.9977624416351318), ('who', 0.9977557063102722)]\n",
            "[('Empire', 0.9741848707199097), ('plant', 0.9734606146812439), ('2015', 0.9733889698982239), ('Company', 0.9731578826904297), ('device', 0.9731507897377014), ('increased', 0.9731112122535706), ('feet', 0.9730854034423828), ('”', 0.973067045211792), ('R', 0.9730211496353149), ('major', 0.9729713797569275)]\n",
            "[('Champion', 0.8851143717765808), ('Adamson', 0.8847107291221619), ('turned', 0.8846397399902344), ('mines', 0.8845914006233215), ('glass', 0.8834488987922668), ('2002', 0.8829957246780396), ('Another', 0.8829315304756165), ('If', 0.8828717470169067), ('musician', 0.8824901580810547), ('Police', 0.8824465274810791)]\n",
            "[('embarking', 0.527380108833313), ('Letters', 0.5117724537849426), ('bylaw', 0.5108997225761414), ('opines', 0.5036553144454956), ('473', 0.5030696988105774), ('nudists', 0.49656087160110474), ('blackmail', 0.493498831987381), ('Bazpipe', 0.4925023019313812), ('mémoire', 0.49022120237350464), ('Teenage', 0.4902033507823944)]\n",
            "[('string', 0.975996732711792), ('final', 0.9751794934272766), ('father', 0.9749966263771057), ('wife', 0.9749385714530945), ('night', 0.9749143719673157), ('O', 0.9743943214416504), ('double', 0.9743712544441223), ('Chief', 0.9743301868438721), ('band', 0.974116861820221), ('ultimately', 0.9741032719612122)]\n",
            "[('NCAA', 0.7352051138877869), ('63', 0.7235522866249084), ('electronic', 0.7166279554367065), ('Huntington', 0.7155722975730896), ('Bologna', 0.7150245308876038), ('signals', 0.7139336466789246), ('islands', 0.7139142751693726), ('triangle', 0.7136574387550354), ('learn', 0.7135621309280396), ('speaker', 0.713512122631073)]\n"
          ]
        }
      ]
    }
  ]
}